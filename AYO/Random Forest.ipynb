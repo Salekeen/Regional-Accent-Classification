{
 "cells": [
  {
   "cell_type": "code",
   "execution_count": 50,
   "metadata": {},
   "outputs": [],
   "source": [
    "import warnings\n",
    "warnings.filterwarnings(\"ignore\")\n",
    "\n",
    "import matplotlib.pyplot as plt\n",
    "%config InlineBackend.figure_format = 'retina'\n",
    "plt.style.use('ggplot')\n",
    "import pandas as pd\n",
    "import numpy as np\n",
    "\n",
    "import seaborn as sns\n",
    "sns.set()\n",
    "\n",
    "from sklearn.model_selection import StratifiedKFold, train_test_split\n",
    "from sklearn.model_selection import GridSearchCV, cross_val_score\n",
    "\n",
    "from sklearn.metrics import accuracy_score\n",
    "\n",
    "from sklearn.ensemble import RandomForestClassifier"
   ]
  },
  {
   "cell_type": "code",
   "execution_count": 51,
   "metadata": {},
   "outputs": [],
   "source": [
    "# load the data\n",
    "df = pd.read_csv('./Data/Final_18_features_extracted_V2.csv')"
   ]
  },
  {
   "cell_type": "code",
   "execution_count": 52,
   "metadata": {},
   "outputs": [
    {
     "data": {
      "text/html": [
       "<div>\n",
       "<style scoped>\n",
       "    .dataframe tbody tr th:only-of-type {\n",
       "        vertical-align: middle;\n",
       "    }\n",
       "\n",
       "    .dataframe tbody tr th {\n",
       "        vertical-align: top;\n",
       "    }\n",
       "\n",
       "    .dataframe thead th {\n",
       "        text-align: right;\n",
       "    }\n",
       "</style>\n",
       "<table border=\"1\" class=\"dataframe\">\n",
       "  <thead>\n",
       "    <tr style=\"text-align: right;\">\n",
       "      <th></th>\n",
       "      <th>Region</th>\n",
       "      <th>File Name</th>\n",
       "      <th>MFCC1</th>\n",
       "      <th>MFCC2</th>\n",
       "      <th>MFCC3</th>\n",
       "      <th>MFCC4</th>\n",
       "      <th>MFCC5</th>\n",
       "      <th>MFCC6</th>\n",
       "      <th>MFCC7</th>\n",
       "      <th>MFCC8</th>\n",
       "      <th>MFCC9</th>\n",
       "      <th>MFCC10</th>\n",
       "      <th>MFCC11</th>\n",
       "      <th>MFCC12</th>\n",
       "      <th>MFCC13</th>\n",
       "      <th>AMP_ENV</th>\n",
       "      <th>RMSE</th>\n",
       "      <th>ZCR</th>\n",
       "      <th>SPEC_CENT</th>\n",
       "      <th>SPEC_BAND</th>\n",
       "    </tr>\n",
       "  </thead>\n",
       "  <tbody>\n",
       "    <tr>\n",
       "      <th>0</th>\n",
       "      <td>Barisal</td>\n",
       "      <td>br1.wav</td>\n",
       "      <td>-371.58478</td>\n",
       "      <td>97.99681</td>\n",
       "      <td>1.269639</td>\n",
       "      <td>26.940123</td>\n",
       "      <td>-5.517467</td>\n",
       "      <td>-7.585458</td>\n",
       "      <td>-12.512117</td>\n",
       "      <td>-10.121937</td>\n",
       "      <td>-17.117098</td>\n",
       "      <td>-2.980860</td>\n",
       "      <td>-5.495219</td>\n",
       "      <td>-6.685885</td>\n",
       "      <td>-2.246712</td>\n",
       "      <td>0.094423</td>\n",
       "      <td>0.042012</td>\n",
       "      <td>0.082185</td>\n",
       "      <td>1389.448490</td>\n",
       "      <td>1475.018042</td>\n",
       "    </tr>\n",
       "    <tr>\n",
       "      <th>1</th>\n",
       "      <td>Barisal</td>\n",
       "      <td>br10.wav</td>\n",
       "      <td>-311.64117</td>\n",
       "      <td>71.84370</td>\n",
       "      <td>-20.855787</td>\n",
       "      <td>17.992466</td>\n",
       "      <td>-9.575283</td>\n",
       "      <td>9.301216</td>\n",
       "      <td>-38.153957</td>\n",
       "      <td>-14.808104</td>\n",
       "      <td>-10.210079</td>\n",
       "      <td>-14.747650</td>\n",
       "      <td>-10.387901</td>\n",
       "      <td>-1.234518</td>\n",
       "      <td>-3.261181</td>\n",
       "      <td>0.165459</td>\n",
       "      <td>0.074938</td>\n",
       "      <td>0.179697</td>\n",
       "      <td>2307.459302</td>\n",
       "      <td>1789.181398</td>\n",
       "    </tr>\n",
       "    <tr>\n",
       "      <th>2</th>\n",
       "      <td>Barisal</td>\n",
       "      <td>br100.wav</td>\n",
       "      <td>-314.17575</td>\n",
       "      <td>136.41866</td>\n",
       "      <td>-52.862125</td>\n",
       "      <td>-15.473975</td>\n",
       "      <td>-45.570000</td>\n",
       "      <td>-17.382814</td>\n",
       "      <td>-19.885965</td>\n",
       "      <td>-25.647032</td>\n",
       "      <td>-8.209912</td>\n",
       "      <td>-17.986666</td>\n",
       "      <td>-11.351544</td>\n",
       "      <td>-1.021543</td>\n",
       "      <td>-9.109297</td>\n",
       "      <td>0.108455</td>\n",
       "      <td>0.048392</td>\n",
       "      <td>0.070920</td>\n",
       "      <td>1157.114627</td>\n",
       "      <td>1057.426180</td>\n",
       "    </tr>\n",
       "    <tr>\n",
       "      <th>3</th>\n",
       "      <td>Barisal</td>\n",
       "      <td>br1000.wav</td>\n",
       "      <td>-411.62485</td>\n",
       "      <td>180.74176</td>\n",
       "      <td>-21.907639</td>\n",
       "      <td>-30.858137</td>\n",
       "      <td>14.736920</td>\n",
       "      <td>-6.635318</td>\n",
       "      <td>-30.891031</td>\n",
       "      <td>-23.473873</td>\n",
       "      <td>-18.243060</td>\n",
       "      <td>-22.557762</td>\n",
       "      <td>-11.455458</td>\n",
       "      <td>0.803584</td>\n",
       "      <td>-9.340458</td>\n",
       "      <td>0.045525</td>\n",
       "      <td>0.023924</td>\n",
       "      <td>0.049118</td>\n",
       "      <td>755.861500</td>\n",
       "      <td>628.356257</td>\n",
       "    </tr>\n",
       "    <tr>\n",
       "      <th>4</th>\n",
       "      <td>Barisal</td>\n",
       "      <td>br1001.wav</td>\n",
       "      <td>-395.18910</td>\n",
       "      <td>115.52895</td>\n",
       "      <td>-60.058544</td>\n",
       "      <td>-21.238525</td>\n",
       "      <td>-16.252647</td>\n",
       "      <td>-4.061910</td>\n",
       "      <td>-12.676420</td>\n",
       "      <td>-23.779793</td>\n",
       "      <td>-25.017618</td>\n",
       "      <td>-18.328882</td>\n",
       "      <td>-6.299292</td>\n",
       "      <td>-8.562610</td>\n",
       "      <td>-16.118456</td>\n",
       "      <td>0.043661</td>\n",
       "      <td>0.021089</td>\n",
       "      <td>0.101046</td>\n",
       "      <td>1474.438870</td>\n",
       "      <td>1225.782428</td>\n",
       "    </tr>\n",
       "  </tbody>\n",
       "</table>\n",
       "</div>"
      ],
      "text/plain": [
       "    Region   File Name      MFCC1      MFCC2      MFCC3      MFCC4      MFCC5  \\\n",
       "0  Barisal     br1.wav -371.58478   97.99681   1.269639  26.940123  -5.517467   \n",
       "1  Barisal    br10.wav -311.64117   71.84370 -20.855787  17.992466  -9.575283   \n",
       "2  Barisal   br100.wav -314.17575  136.41866 -52.862125 -15.473975 -45.570000   \n",
       "3  Barisal  br1000.wav -411.62485  180.74176 -21.907639 -30.858137  14.736920   \n",
       "4  Barisal  br1001.wav -395.18910  115.52895 -60.058544 -21.238525 -16.252647   \n",
       "\n",
       "       MFCC6      MFCC7      MFCC8      MFCC9     MFCC10     MFCC11    MFCC12  \\\n",
       "0  -7.585458 -12.512117 -10.121937 -17.117098  -2.980860  -5.495219 -6.685885   \n",
       "1   9.301216 -38.153957 -14.808104 -10.210079 -14.747650 -10.387901 -1.234518   \n",
       "2 -17.382814 -19.885965 -25.647032  -8.209912 -17.986666 -11.351544 -1.021543   \n",
       "3  -6.635318 -30.891031 -23.473873 -18.243060 -22.557762 -11.455458  0.803584   \n",
       "4  -4.061910 -12.676420 -23.779793 -25.017618 -18.328882  -6.299292 -8.562610   \n",
       "\n",
       "      MFCC13   AMP_ENV      RMSE       ZCR    SPEC_CENT    SPEC_BAND  \n",
       "0  -2.246712  0.094423  0.042012  0.082185  1389.448490  1475.018042  \n",
       "1  -3.261181  0.165459  0.074938  0.179697  2307.459302  1789.181398  \n",
       "2  -9.109297  0.108455  0.048392  0.070920  1157.114627  1057.426180  \n",
       "3  -9.340458  0.045525  0.023924  0.049118   755.861500   628.356257  \n",
       "4 -16.118456  0.043661  0.021089  0.101046  1474.438870  1225.782428  "
      ]
     },
     "execution_count": 52,
     "metadata": {},
     "output_type": "execute_result"
    }
   ],
   "source": [
    "df.head()"
   ]
  },
  {
   "cell_type": "markdown",
   "metadata": {},
   "source": [
    "- First drop 'File Name' columns as we are gonna use default indexing\n",
    "- Make X and y"
   ]
  },
  {
   "cell_type": "code",
   "execution_count": 53,
   "metadata": {},
   "outputs": [],
   "source": [
    "X = df.drop(columns=[\"Region\",\"File Name\"],axis=1)\n",
    "y = df['Region']"
   ]
  },
  {
   "cell_type": "code",
   "execution_count": 54,
   "metadata": {},
   "outputs": [
    {
     "data": {
      "text/plain": [
       "((9059, 18), (9059,))"
      ]
     },
     "execution_count": 54,
     "metadata": {},
     "output_type": "execute_result"
    }
   ],
   "source": [
    "X.shape, y.shape"
   ]
  },
  {
   "cell_type": "markdown",
   "metadata": {},
   "source": [
    "- Making train test split\n"
   ]
  },
  {
   "cell_type": "code",
   "execution_count": 55,
   "metadata": {},
   "outputs": [],
   "source": [
    "X_train,X_test,y_train,y_test = train_test_split(\n",
    "    X,y,test_size=0.3,random_state=17,shuffle=True\n",
    ")"
   ]
  },
  {
   "cell_type": "markdown",
   "metadata": {},
   "source": [
    "- Lets build our Random Forest model with default parameters now\n",
    "  - Also we need our skf with shuffle true as CV"
   ]
  },
  {
   "cell_type": "code",
   "execution_count": 56,
   "metadata": {},
   "outputs": [],
   "source": [
    "skf = StratifiedKFold(n_splits=5,shuffle=True,random_state=17)\n",
    "\n",
    "rfc = RandomForestClassifier(random_state=17,n_jobs=-1)"
   ]
  },
  {
   "cell_type": "markdown",
   "metadata": {},
   "source": [
    "- Lets check our CV scores with default parameters"
   ]
  },
  {
   "cell_type": "code",
   "execution_count": 57,
   "metadata": {},
   "outputs": [
    {
     "data": {
      "text/plain": [
       "79.57844080143055"
      ]
     },
     "execution_count": 57,
     "metadata": {},
     "output_type": "execute_result"
    }
   ],
   "source": [
    "results = cross_val_score(rfc,X,y,cv=skf)\n",
    "results.mean()*100"
   ]
  },
  {
   "cell_type": "markdown",
   "metadata": {},
   "source": [
    "**Note:** This CV scores can be counted as accuracy on the test set. As in Random Forest bagging is built in, we get OOB error!"
   ]
  },
  {
   "cell_type": "markdown",
   "metadata": {},
   "source": [
    "- Lets do the same thing in default manner"
   ]
  },
  {
   "cell_type": "code",
   "execution_count": 58,
   "metadata": {},
   "outputs": [
    {
     "data": {
      "text/plain": [
       "RandomForestClassifier(n_jobs=-1, random_state=17)"
      ]
     },
     "execution_count": 58,
     "metadata": {},
     "output_type": "execute_result"
    }
   ],
   "source": [
    "rfc.fit(X_train,y_train)"
   ]
  },
  {
   "cell_type": "code",
   "execution_count": 60,
   "metadata": {},
   "outputs": [
    {
     "data": {
      "text/plain": [
       "1.0"
      ]
     },
     "execution_count": 60,
     "metadata": {},
     "output_type": "execute_result"
    }
   ],
   "source": [
    "# accuracy on the train set:\n",
    "rfc_pred = rfc.predict(X_train)\n",
    "accuracy_score(y_train,rfc_pred)"
   ]
  },
  {
   "cell_type": "code",
   "execution_count": 61,
   "metadata": {},
   "outputs": [
    {
     "data": {
      "text/plain": [
       "0.7829286239882266"
      ]
     },
     "execution_count": 61,
     "metadata": {},
     "output_type": "execute_result"
    }
   ],
   "source": [
    "# accuracy on the test set\n",
    "rfc_pred = rfc.predict(X_test)\n",
    "accuracy_score(y_test,rfc_pred)"
   ]
  },
  {
   "cell_type": "markdown",
   "metadata": {},
   "source": [
    "### One very important thing to take note:\n",
    "- The accuracy on the train set is 1 while the accuracy on the test set is .78! This is a case where the model is extremely biased towards the train set, and it cant generalize at all. Indicating **High variance** of the model.We might try three things here!\n",
    "  - Add more training data\n",
    "  - Reduce model complexity\n",
    "  - Bagging!"
   ]
  },
  {
   "cell_type": "markdown",
   "metadata": {},
   "source": []
  }
 ],
 "metadata": {
  "interpreter": {
   "hash": "6f2633947071d0c530ad3c99a8d87f7cecc29e8d49a0e8454cfd238047c3ac35"
  },
  "kernelspec": {
   "display_name": "Python 3.9.7 ('base')",
   "language": "python",
   "name": "python3"
  },
  "language_info": {
   "codemirror_mode": {
    "name": "ipython",
    "version": 3
   },
   "file_extension": ".py",
   "mimetype": "text/x-python",
   "name": "python",
   "nbconvert_exporter": "python",
   "pygments_lexer": "ipython3",
   "version": "3.9.7"
  },
  "orig_nbformat": 4
 },
 "nbformat": 4,
 "nbformat_minor": 2
}
