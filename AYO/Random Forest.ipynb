{
 "cells": [
  {
   "cell_type": "code",
   "execution_count": 1,
   "metadata": {},
   "outputs": [],
   "source": [
    "import warnings\n",
    "warnings.filterwarnings(\"ignore\")\n",
    "\n",
    "import matplotlib.pyplot as plt\n",
    "%config InlineBackend.figure_format = 'retina'\n",
    "plt.style.use('ggplot')\n",
    "import pandas as pd\n",
    "import numpy as np\n",
    "\n",
    "import seaborn as sns\n",
    "sns.set()\n",
    "\n",
    "from sklearn.model_selection import StratifiedKFold, train_test_split\n",
    "from sklearn.model_selection import GridSearchCV, cross_val_score\n",
    "\n",
    "from sklearn.metrics import accuracy_score\n",
    "\n",
    "from sklearn.ensemble import RandomForestClassifier\n",
    "\n",
    "from sklearn.model_selection import learning_curve"
   ]
  },
  {
   "cell_type": "code",
   "execution_count": 2,
   "metadata": {},
   "outputs": [],
   "source": [
    "# load the data\n",
    "df = pd.read_csv('./Data/Final_18_features_extracted_V2.csv')"
   ]
  },
  {
   "cell_type": "code",
   "execution_count": 3,
   "metadata": {},
   "outputs": [
    {
     "data": {
      "text/html": [
       "<div>\n",
       "<style scoped>\n",
       "    .dataframe tbody tr th:only-of-type {\n",
       "        vertical-align: middle;\n",
       "    }\n",
       "\n",
       "    .dataframe tbody tr th {\n",
       "        vertical-align: top;\n",
       "    }\n",
       "\n",
       "    .dataframe thead th {\n",
       "        text-align: right;\n",
       "    }\n",
       "</style>\n",
       "<table border=\"1\" class=\"dataframe\">\n",
       "  <thead>\n",
       "    <tr style=\"text-align: right;\">\n",
       "      <th></th>\n",
       "      <th>Region</th>\n",
       "      <th>File Name</th>\n",
       "      <th>MFCC1</th>\n",
       "      <th>MFCC2</th>\n",
       "      <th>MFCC3</th>\n",
       "      <th>MFCC4</th>\n",
       "      <th>MFCC5</th>\n",
       "      <th>MFCC6</th>\n",
       "      <th>MFCC7</th>\n",
       "      <th>MFCC8</th>\n",
       "      <th>MFCC9</th>\n",
       "      <th>MFCC10</th>\n",
       "      <th>MFCC11</th>\n",
       "      <th>MFCC12</th>\n",
       "      <th>MFCC13</th>\n",
       "      <th>AMP_ENV</th>\n",
       "      <th>RMSE</th>\n",
       "      <th>ZCR</th>\n",
       "      <th>SPEC_CENT</th>\n",
       "      <th>SPEC_BAND</th>\n",
       "    </tr>\n",
       "  </thead>\n",
       "  <tbody>\n",
       "    <tr>\n",
       "      <th>0</th>\n",
       "      <td>Barisal</td>\n",
       "      <td>br1.wav</td>\n",
       "      <td>-371.58478</td>\n",
       "      <td>97.99681</td>\n",
       "      <td>1.269639</td>\n",
       "      <td>26.940123</td>\n",
       "      <td>-5.517467</td>\n",
       "      <td>-7.585458</td>\n",
       "      <td>-12.512117</td>\n",
       "      <td>-10.121937</td>\n",
       "      <td>-17.117098</td>\n",
       "      <td>-2.980860</td>\n",
       "      <td>-5.495219</td>\n",
       "      <td>-6.685885</td>\n",
       "      <td>-2.246712</td>\n",
       "      <td>0.094423</td>\n",
       "      <td>0.042012</td>\n",
       "      <td>0.082185</td>\n",
       "      <td>1389.448490</td>\n",
       "      <td>1475.018042</td>\n",
       "    </tr>\n",
       "    <tr>\n",
       "      <th>1</th>\n",
       "      <td>Barisal</td>\n",
       "      <td>br10.wav</td>\n",
       "      <td>-311.64117</td>\n",
       "      <td>71.84370</td>\n",
       "      <td>-20.855787</td>\n",
       "      <td>17.992466</td>\n",
       "      <td>-9.575283</td>\n",
       "      <td>9.301216</td>\n",
       "      <td>-38.153957</td>\n",
       "      <td>-14.808104</td>\n",
       "      <td>-10.210079</td>\n",
       "      <td>-14.747650</td>\n",
       "      <td>-10.387901</td>\n",
       "      <td>-1.234518</td>\n",
       "      <td>-3.261181</td>\n",
       "      <td>0.165459</td>\n",
       "      <td>0.074938</td>\n",
       "      <td>0.179697</td>\n",
       "      <td>2307.459302</td>\n",
       "      <td>1789.181398</td>\n",
       "    </tr>\n",
       "    <tr>\n",
       "      <th>2</th>\n",
       "      <td>Barisal</td>\n",
       "      <td>br100.wav</td>\n",
       "      <td>-314.17575</td>\n",
       "      <td>136.41866</td>\n",
       "      <td>-52.862125</td>\n",
       "      <td>-15.473975</td>\n",
       "      <td>-45.570000</td>\n",
       "      <td>-17.382814</td>\n",
       "      <td>-19.885965</td>\n",
       "      <td>-25.647032</td>\n",
       "      <td>-8.209912</td>\n",
       "      <td>-17.986666</td>\n",
       "      <td>-11.351544</td>\n",
       "      <td>-1.021543</td>\n",
       "      <td>-9.109297</td>\n",
       "      <td>0.108455</td>\n",
       "      <td>0.048392</td>\n",
       "      <td>0.070920</td>\n",
       "      <td>1157.114627</td>\n",
       "      <td>1057.426180</td>\n",
       "    </tr>\n",
       "    <tr>\n",
       "      <th>3</th>\n",
       "      <td>Barisal</td>\n",
       "      <td>br1000.wav</td>\n",
       "      <td>-411.62485</td>\n",
       "      <td>180.74176</td>\n",
       "      <td>-21.907639</td>\n",
       "      <td>-30.858137</td>\n",
       "      <td>14.736920</td>\n",
       "      <td>-6.635318</td>\n",
       "      <td>-30.891031</td>\n",
       "      <td>-23.473873</td>\n",
       "      <td>-18.243060</td>\n",
       "      <td>-22.557762</td>\n",
       "      <td>-11.455458</td>\n",
       "      <td>0.803584</td>\n",
       "      <td>-9.340458</td>\n",
       "      <td>0.045525</td>\n",
       "      <td>0.023924</td>\n",
       "      <td>0.049118</td>\n",
       "      <td>755.861500</td>\n",
       "      <td>628.356257</td>\n",
       "    </tr>\n",
       "    <tr>\n",
       "      <th>4</th>\n",
       "      <td>Barisal</td>\n",
       "      <td>br1001.wav</td>\n",
       "      <td>-395.18910</td>\n",
       "      <td>115.52895</td>\n",
       "      <td>-60.058544</td>\n",
       "      <td>-21.238525</td>\n",
       "      <td>-16.252647</td>\n",
       "      <td>-4.061910</td>\n",
       "      <td>-12.676420</td>\n",
       "      <td>-23.779793</td>\n",
       "      <td>-25.017618</td>\n",
       "      <td>-18.328882</td>\n",
       "      <td>-6.299292</td>\n",
       "      <td>-8.562610</td>\n",
       "      <td>-16.118456</td>\n",
       "      <td>0.043661</td>\n",
       "      <td>0.021089</td>\n",
       "      <td>0.101046</td>\n",
       "      <td>1474.438870</td>\n",
       "      <td>1225.782428</td>\n",
       "    </tr>\n",
       "  </tbody>\n",
       "</table>\n",
       "</div>"
      ],
      "text/plain": [
       "    Region   File Name      MFCC1      MFCC2      MFCC3      MFCC4      MFCC5  \\\n",
       "0  Barisal     br1.wav -371.58478   97.99681   1.269639  26.940123  -5.517467   \n",
       "1  Barisal    br10.wav -311.64117   71.84370 -20.855787  17.992466  -9.575283   \n",
       "2  Barisal   br100.wav -314.17575  136.41866 -52.862125 -15.473975 -45.570000   \n",
       "3  Barisal  br1000.wav -411.62485  180.74176 -21.907639 -30.858137  14.736920   \n",
       "4  Barisal  br1001.wav -395.18910  115.52895 -60.058544 -21.238525 -16.252647   \n",
       "\n",
       "       MFCC6      MFCC7      MFCC8      MFCC9     MFCC10     MFCC11    MFCC12  \\\n",
       "0  -7.585458 -12.512117 -10.121937 -17.117098  -2.980860  -5.495219 -6.685885   \n",
       "1   9.301216 -38.153957 -14.808104 -10.210079 -14.747650 -10.387901 -1.234518   \n",
       "2 -17.382814 -19.885965 -25.647032  -8.209912 -17.986666 -11.351544 -1.021543   \n",
       "3  -6.635318 -30.891031 -23.473873 -18.243060 -22.557762 -11.455458  0.803584   \n",
       "4  -4.061910 -12.676420 -23.779793 -25.017618 -18.328882  -6.299292 -8.562610   \n",
       "\n",
       "      MFCC13   AMP_ENV      RMSE       ZCR    SPEC_CENT    SPEC_BAND  \n",
       "0  -2.246712  0.094423  0.042012  0.082185  1389.448490  1475.018042  \n",
       "1  -3.261181  0.165459  0.074938  0.179697  2307.459302  1789.181398  \n",
       "2  -9.109297  0.108455  0.048392  0.070920  1157.114627  1057.426180  \n",
       "3  -9.340458  0.045525  0.023924  0.049118   755.861500   628.356257  \n",
       "4 -16.118456  0.043661  0.021089  0.101046  1474.438870  1225.782428  "
      ]
     },
     "execution_count": 3,
     "metadata": {},
     "output_type": "execute_result"
    }
   ],
   "source": [
    "df.head()"
   ]
  },
  {
   "cell_type": "markdown",
   "metadata": {},
   "source": [
    "- First drop 'File Name' columns as we are gonna use default indexing\n",
    "- Make X and y"
   ]
  },
  {
   "cell_type": "code",
   "execution_count": 4,
   "metadata": {},
   "outputs": [],
   "source": [
    "X = df.drop(columns=[\"Region\",\"File Name\"],axis=1)\n",
    "y = df['Region']"
   ]
  },
  {
   "cell_type": "code",
   "execution_count": 5,
   "metadata": {},
   "outputs": [
    {
     "data": {
      "text/plain": [
       "((9059, 18), (9059,))"
      ]
     },
     "execution_count": 5,
     "metadata": {},
     "output_type": "execute_result"
    }
   ],
   "source": [
    "X.shape, y.shape"
   ]
  },
  {
   "cell_type": "markdown",
   "metadata": {},
   "source": [
    "- Making train test split\n"
   ]
  },
  {
   "cell_type": "code",
   "execution_count": 6,
   "metadata": {},
   "outputs": [],
   "source": [
    "X_train,X_test,y_train,y_test = train_test_split(\n",
    "    X,y,test_size=0.3,random_state=17,shuffle=True\n",
    ")"
   ]
  },
  {
   "cell_type": "markdown",
   "metadata": {},
   "source": [
    "- Lets build our Random Forest model with default parameters now\n",
    "  - Also we need our skf with shuffle true as CV"
   ]
  },
  {
   "cell_type": "code",
   "execution_count": 7,
   "metadata": {},
   "outputs": [],
   "source": [
    "skf = StratifiedKFold(n_splits=5,shuffle=True,random_state=17)\n",
    "\n",
    "rfc = RandomForestClassifier(random_state=17,n_jobs=-1)"
   ]
  },
  {
   "cell_type": "markdown",
   "metadata": {},
   "source": [
    "- Lets check our CV scores with default parameters"
   ]
  },
  {
   "cell_type": "code",
   "execution_count": 8,
   "metadata": {},
   "outputs": [
    {
     "data": {
      "text/plain": [
       "77.7006535362801"
      ]
     },
     "execution_count": 8,
     "metadata": {},
     "output_type": "execute_result"
    }
   ],
   "source": [
    "results = cross_val_score(rfc,X_train,y_train,cv=skf)\n",
    "results.mean()*100"
   ]
  },
  {
   "cell_type": "markdown",
   "metadata": {},
   "source": [
    "- Lets do the same thing in default manner"
   ]
  },
  {
   "cell_type": "code",
   "execution_count": 9,
   "metadata": {},
   "outputs": [
    {
     "data": {
      "text/plain": [
       "RandomForestClassifier(n_jobs=-1, random_state=17)"
      ]
     },
     "execution_count": 9,
     "metadata": {},
     "output_type": "execute_result"
    }
   ],
   "source": [
    "rfc.fit(X_train,y_train)"
   ]
  },
  {
   "cell_type": "code",
   "execution_count": 10,
   "metadata": {},
   "outputs": [
    {
     "data": {
      "text/plain": [
       "1.0"
      ]
     },
     "execution_count": 10,
     "metadata": {},
     "output_type": "execute_result"
    }
   ],
   "source": [
    "# accuracy on the train set:\n",
    "rfc_pred = rfc.predict(X_train)\n",
    "accuracy_score(y_train,rfc_pred)"
   ]
  },
  {
   "cell_type": "code",
   "execution_count": 11,
   "metadata": {},
   "outputs": [
    {
     "data": {
      "text/plain": [
       "0.7829286239882266"
      ]
     },
     "execution_count": 11,
     "metadata": {},
     "output_type": "execute_result"
    }
   ],
   "source": [
    "# accuracy on the test set\n",
    "rfc_pred = rfc.predict(X_test)\n",
    "accuracy_score(y_test,rfc_pred)"
   ]
  },
  {
   "cell_type": "markdown",
   "metadata": {},
   "source": [
    "### One very important thing to take note:\n",
    "- The accuracy on the train set is 1 while the accuracy on the test set is .78! This is a case where the model is extremely biased towards the train set, and it cant generalize at all. Indicating **High variance** of the model.We might try three things here!\n",
    "  - Add more training data (Not possible)\n",
    "  - Reduce model complexity (Gotta do this first)\n",
    "  - Bagging! (will do second if i have time)"
   ]
  },
  {
   "cell_type": "markdown",
   "metadata": {},
   "source": [
    "## Hyperparameter tuning:"
   ]
  },
  {
   "cell_type": "code",
   "execution_count": 12,
   "metadata": {},
   "outputs": [],
   "source": [
    "forest_params = {'max_features': [4, 7, 10, 13],\n",
    "              'min_samples_leaf': [5, 7],\n",
    "              'max_depth': [5, 10, 15, 20]}\n",
    "rfc = RandomForestClassifier(n_estimators=100,random_state=17,n_jobs=-1)\n",
    "\n",
    "gcv = GridSearchCV(rfc,forest_params,n_jobs=-1,cv=skf,verbose=1)"
   ]
  },
  {
   "cell_type": "code",
   "execution_count": 13,
   "metadata": {},
   "outputs": [
    {
     "name": "stdout",
     "output_type": "stream",
     "text": [
      "Fitting 5 folds for each of 32 candidates, totalling 160 fits\n"
     ]
    },
    {
     "data": {
      "text/plain": [
       "GridSearchCV(cv=StratifiedKFold(n_splits=5, random_state=17, shuffle=True),\n",
       "             estimator=RandomForestClassifier(n_jobs=-1, random_state=17),\n",
       "             n_jobs=-1,\n",
       "             param_grid={'max_depth': [5, 10, 15, 20],\n",
       "                         'max_features': [4, 7, 10, 13],\n",
       "                         'min_samples_leaf': [5, 7]},\n",
       "             verbose=1)"
      ]
     },
     "execution_count": 13,
     "metadata": {},
     "output_type": "execute_result"
    }
   ],
   "source": [
    "# Lets train the model\n",
    "gcv.fit(X_train,y_train)"
   ]
  },
  {
   "cell_type": "code",
   "execution_count": 14,
   "metadata": {},
   "outputs": [
    {
     "data": {
      "text/plain": [
       "0.7500400225717361"
      ]
     },
     "execution_count": 14,
     "metadata": {},
     "output_type": "execute_result"
    }
   ],
   "source": [
    "gcv.best_score_"
   ]
  },
  {
   "cell_type": "code",
   "execution_count": 15,
   "metadata": {},
   "outputs": [
    {
     "data": {
      "text/plain": [
       "{'max_depth': 15, 'max_features': 4, 'min_samples_leaf': 5}"
      ]
     },
     "execution_count": 15,
     "metadata": {},
     "output_type": "execute_result"
    }
   ],
   "source": [
    "gcv.best_params_"
   ]
  },
  {
   "cell_type": "code",
   "execution_count": 16,
   "metadata": {},
   "outputs": [
    {
     "data": {
      "text/plain": [
       "RandomForestClassifier(max_depth=15, max_features=4, min_samples_leaf=5,\n",
       "                       n_jobs=-1, random_state=17)"
      ]
     },
     "execution_count": 16,
     "metadata": {},
     "output_type": "execute_result"
    }
   ],
   "source": [
    "gcv.best_estimator_"
   ]
  },
  {
   "cell_type": "code",
   "execution_count": 17,
   "metadata": {},
   "outputs": [],
   "source": [
    "forest_pred = gcv.best_estimator_.predict(X_test)"
   ]
  },
  {
   "cell_type": "code",
   "execution_count": 18,
   "metadata": {},
   "outputs": [
    {
     "data": {
      "text/plain": [
       "0.7590139808682855"
      ]
     },
     "execution_count": 18,
     "metadata": {},
     "output_type": "execute_result"
    }
   ],
   "source": [
    "accuracy_score(y_test,forest_pred) # accuracy on the test set"
   ]
  },
  {
   "cell_type": "code",
   "execution_count": 19,
   "metadata": {},
   "outputs": [
    {
     "data": {
      "text/plain": [
       "0.9452767702255165"
      ]
     },
     "execution_count": 19,
     "metadata": {},
     "output_type": "execute_result"
    }
   ],
   "source": [
    "# accuracy on the train set\n",
    "forest_pred = gcv.best_estimator_.predict(X_train)\n",
    "accuracy_score(y_train,forest_pred)"
   ]
  },
  {
   "cell_type": "markdown",
   "metadata": {},
   "source": [
    "- Lets plot the Learning curve"
   ]
  },
  {
   "cell_type": "code",
   "execution_count": 20,
   "metadata": {},
   "outputs": [],
   "source": [
    "# Helper function\n",
    "alphas = np.logspace(-2, 0, 20)\n",
    "def plot_with_err(x, data, **kwargs):\n",
    "    mu, std = data.mean(1), data.std(1)\n",
    "    lines = plt.plot(x, mu, \"-\", **kwargs)\n",
    "    plt.fill_between(\n",
    "        x,\n",
    "        mu - std,\n",
    "        mu + std,\n",
    "        edgecolor=\"none\",\n",
    "        facecolor=lines[0].get_color(),\n",
    "        alpha=0.2,\n",
    "    )\n"
   ]
  },
  {
   "cell_type": "code",
   "execution_count": 21,
   "metadata": {},
   "outputs": [],
   "source": [
    "def plot_learning_curve():\n",
    "    train_sizes = np.linspace(0.05,1,20)\n",
    "    N_train,val_train,val_test = learning_curve(\n",
    "        gcv.best_estimator_,X_train,y_train,train_sizes=train_sizes,cv=skf,shuffle=True\n",
    "    )\n",
    "    plot_with_err(N_train, val_train, label=\"training scores\")\n",
    "    plot_with_err(N_train, val_test, label=\"validation scores\")\n",
    "    plt.xlabel(\"Training Set Size\")\n",
    "    plt.ylabel(\"AUC\")\n",
    "    plt.legend()\n",
    "    plt.grid(True);"
   ]
  },
  {
   "cell_type": "code",
   "execution_count": 22,
   "metadata": {},
   "outputs": [
    {
     "data": {
      "image/png": "[encoded data removed]",
      "text/plain": [
       "<Figure size 432x288 with 1 Axes>"
      ]
     },
     "metadata": {
      "image/png": {
       "height": 267,
       "width": 392
      }
     },
     "output_type": "display_data"
    }
   ],
   "source": [
    "plot_learning_curve()"
   ]
  },
  {
   "cell_type": "markdown",
   "metadata": {},
   "source": [
    "### Notes:\n",
    "- RN, our accuracy on the test set is .76 and accuracy on train set is about 0.94. Indicating **Low Bias and High Variance** nature of our model. Learning curve shows it clearly!\n",
    "- Also, our best estimator using *max_depth=15, max_features=4, min_samples_leaf=5, n_estimator=100*\n",
    "- So as my current target is to narrow down the gap between training and validation/test, I might wanna use less trees as my base classifier and set the hyperparameter space in such a way that it might be cause higher bias! \n",
    "\n",
    "Lets try!"
   ]
  },
  {
   "cell_type": "code",
   "execution_count": 23,
   "metadata": {},
   "outputs": [],
   "source": [
    "forest_params = {\n",
    "    'max_features': [4, 7, 10, 13],\n",
    "    'min_samples_leaf': [7, 9 ,11],\n",
    "    'max_depth': [5, 10, 15, 20],\n",
    "    'min_samples_split':[2,4,6,8]\n",
    "\n",
    "}\n",
    "rfc = RandomForestClassifier(n_estimators=50,random_state=17,n_jobs=-1)\n",
    "\n",
    "gcv = GridSearchCV(rfc,forest_params,n_jobs=-1,cv=skf,verbose=1)"
   ]
  },
  {
   "cell_type": "code",
   "execution_count": 24,
   "metadata": {},
   "outputs": [
    {
     "name": "stdout",
     "output_type": "stream",
     "text": [
      "Fitting 5 folds for each of 192 candidates, totalling 960 fits\n"
     ]
    },
    {
     "data": {
      "text/plain": [
       "GridSearchCV(cv=StratifiedKFold(n_splits=5, random_state=17, shuffle=True),\n",
       "             estimator=RandomForestClassifier(n_estimators=50, n_jobs=-1,\n",
       "                                              random_state=17),\n",
       "             n_jobs=-1,\n",
       "             param_grid={'max_depth': [5, 10, 15, 20],\n",
       "                         'max_features': [4, 7, 10, 13],\n",
       "                         'min_samples_leaf': [7, 9, 11],\n",
       "                         'min_samples_split': [2, 4, 6, 8]},\n",
       "             verbose=1)"
      ]
     },
     "execution_count": 24,
     "metadata": {},
     "output_type": "execute_result"
    }
   ],
   "source": [
    "gcv.fit(X_train,y_train)"
   ]
  },
  {
   "cell_type": "code",
   "execution_count": 25,
   "metadata": {},
   "outputs": [
    {
     "data": {
      "text/plain": [
       "0.7382104938685917"
      ]
     },
     "execution_count": 25,
     "metadata": {},
     "output_type": "execute_result"
    }
   ],
   "source": [
    "gcv.best_score_"
   ]
  },
  {
   "cell_type": "code",
   "execution_count": 26,
   "metadata": {},
   "outputs": [
    {
     "data": {
      "text/plain": [
       "0.9113704463018452"
      ]
     },
     "execution_count": 26,
     "metadata": {},
     "output_type": "execute_result"
    }
   ],
   "source": [
    "accuracy_score(gcv.best_estimator_.predict(X_train),y_train)"
   ]
  },
  {
   "cell_type": "markdown",
   "metadata": {},
   "source": [
    "- Much better! But this seems tedious... lemme plot validation curve for some of the parameters to see how are they affecting the model! I might be able to take educated guess of the parameter space after that!"
   ]
  },
  {
   "cell_type": "markdown",
   "metadata": {},
   "source": [
    "## Final tuning based on validation curves"
   ]
  },
  {
   "cell_type": "code",
   "execution_count": 27,
   "metadata": {},
   "outputs": [],
   "source": [
    "forest_params = {\n",
    "    'n_estimators':[10,15,20,25],\n",
    "    'max_features': [4],\n",
    "    'min_samples_leaf': [16,18,20],\n",
    "    'max_depth': [7,10,13],\n",
    "    'min_samples_split':[20,25,30]\n",
    "\n",
    "}\n",
    "rfc = RandomForestClassifier(n_estimators=50,random_state=17,n_jobs=-1)\n",
    "\n",
    "gcv = GridSearchCV(rfc,forest_params,n_jobs=-1,cv=skf,verbose=1)"
   ]
  },
  {
   "cell_type": "code",
   "execution_count": 28,
   "metadata": {},
   "outputs": [
    {
     "name": "stdout",
     "output_type": "stream",
     "text": [
      "Fitting 5 folds for each of 108 candidates, totalling 540 fits\n"
     ]
    },
    {
     "data": {
      "text/plain": [
       "GridSearchCV(cv=StratifiedKFold(n_splits=5, random_state=17, shuffle=True),\n",
       "             estimator=RandomForestClassifier(n_estimators=50, n_jobs=-1,\n",
       "                                              random_state=17),\n",
       "             n_jobs=-1,\n",
       "             param_grid={'max_depth': [7, 10, 13], 'max_features': [4],\n",
       "                         'min_samples_leaf': [16, 18, 20],\n",
       "                         'min_samples_split': [20, 25, 30],\n",
       "                         'n_estimators': [10, 15, 20, 25]},\n",
       "             verbose=1)"
      ]
     },
     "execution_count": 28,
     "metadata": {},
     "output_type": "execute_result"
    }
   ],
   "source": [
    "gcv.fit(X_train,y_train)"
   ]
  },
  {
   "cell_type": "code",
   "execution_count": 29,
   "metadata": {},
   "outputs": [
    {
     "data": {
      "text/plain": [
       "RandomForestClassifier(max_depth=13, max_features=4, min_samples_leaf=16,\n",
       "                       min_samples_split=20, n_estimators=20, n_jobs=-1,\n",
       "                       random_state=17)"
      ]
     },
     "execution_count": 29,
     "metadata": {},
     "output_type": "execute_result"
    }
   ],
   "source": [
    "gcv.best_estimator_"
   ]
  },
  {
   "cell_type": "code",
   "execution_count": 30,
   "metadata": {},
   "outputs": [
    {
     "data": {
      "text/plain": [
       "0.6855373092402423"
      ]
     },
     "execution_count": 30,
     "metadata": {},
     "output_type": "execute_result"
    }
   ],
   "source": [
    "gcv.best_score_ # The CV scores"
   ]
  },
  {
   "cell_type": "code",
   "execution_count": 31,
   "metadata": {},
   "outputs": [
    {
     "data": {
      "text/plain": [
       "0.8003469484308469"
      ]
     },
     "execution_count": 31,
     "metadata": {},
     "output_type": "execute_result"
    }
   ],
   "source": [
    "# accuracy on the training set\n",
    "accuracy_score(gcv.best_estimator_.predict(X_train),y_train)"
   ]
  },
  {
   "cell_type": "code",
   "execution_count": 32,
   "metadata": {},
   "outputs": [
    {
     "data": {
      "text/plain": [
       "0.6806475349521707"
      ]
     },
     "execution_count": 32,
     "metadata": {},
     "output_type": "execute_result"
    }
   ],
   "source": [
    "# accuracy on the TEST set\n",
    "accuracy_score(gcv.best_estimator_.predict(X_test),y_test)"
   ]
  },
  {
   "cell_type": "code",
   "execution_count": 33,
   "metadata": {},
   "outputs": [
    {
     "data": {
      "image/png": "[encoded data removed]",
      "text/plain": [
       "<Figure size 432x288 with 1 Axes>"
      ]
     },
     "metadata": {
      "image/png": {
       "height": 267,
       "width": 399
      }
     },
     "output_type": "display_data"
    }
   ],
   "source": [
    "plot_learning_curve()"
   ]
  },
  {
   "cell_type": "markdown",
   "metadata": {},
   "source": [
    "- ALRIGHT! This is promising! A curve that looks NORMAL! LMAO!\n",
    "- So, it looks like certainly more data the data will help in some extent!\n",
    "- Although, bias of the model is now relatively high.\n",
    "- I might wanna try Extremetized Random Trees to see how this all work, as now my goal is to **dont change the training curve but make validation curve get closer to training curve!**\n",
    "- In other words **Reduce the variance of the model**"
   ]
  }
 ],
 "metadata": {
  "interpreter": {
   "hash": "6f2633947071d0c530ad3c99a8d87f7cecc29e8d49a0e8454cfd238047c3ac35"
  },
  "kernelspec": {
   "display_name": "Python 3.9.7 ('base')",
   "language": "python",
   "name": "python3"
  },
  "language_info": {
   "codemirror_mode": {
    "name": "ipython",
    "version": 3
   },
   "file_extension": ".py",
   "mimetype": "text/x-python",
   "name": "python",
   "nbconvert_exporter": "python",
   "pygments_lexer": "ipython3",
   "version": "3.9.7"
  },
  "orig_nbformat": 4
 },
 "nbformat": 4,
 "nbformat_minor": 2
}
